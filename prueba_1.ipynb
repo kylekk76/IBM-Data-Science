{
 "cells": [
  {
   "cell_type": "markdown",
   "id": "9c458938",
   "metadata": {},
   "source": [
    "# My Jupyter Notebook on IBM Watson Studio"
   ]
  },
  {
   "cell_type": "markdown",
   "id": "071bbe6b",
   "metadata": {},
   "source": [
    "**Julio Diaz**<br>\n",
    "Tech King"
   ]
  },
  {
   "cell_type": "markdown",
   "id": "01c006c1",
   "metadata": {},
   "source": [
    "*I'm interested in data science because i like to get insights from data*\n"
   ]
  },
  {
   "cell_type": "markdown",
   "id": "9742103b",
   "metadata": {},
   "source": [
    "### My code is a simple loop throw a sentence to print each part of it with a bit of decoration, for the course of data science from IBM in Coursera."
   ]
  },
  {
   "cell_type": "code",
   "execution_count": 9,
   "id": "4c73db7a",
   "metadata": {},
   "outputs": [
    {
     "name": "stdout",
     "output_type": "stream",
     "text": [
      "> I <\n",
      "> B <\n",
      "> M <\n",
      ">   <\n",
      "> R <\n",
      "> O <\n",
      "> C <\n",
      "> K <\n",
      "> ' <\n",
      "> S <\n"
     ]
    }
   ],
   "source": [
    "sentence= \"IBM ROCK'S\"\n",
    "for n in sentence:\n",
    "    print(\">\",n,\"<\")"
   ]
  },
  {
   "cell_type": "markdown",
   "id": "42046f07",
   "metadata": {},
   "source": [
    "<font color=green>example link:</font>\n",
    "<a href=\"http://example.com\">link</a>\n",
    "- example 1\n",
    "- example 2\n",
    "- example 3\n",
    "1. example 4\n",
    "2. example 5 <br>\n",
   ]
  },
  {
   "cell_type": "code",
   "execution_count": null,
   "id": "85e72a95",
   "metadata": {},
   "outputs": [],
   "source": []
  }
 ],
 "metadata": {
  "kernelspec": {
   "display_name": "Python 3 (ipykernel)",
   "language": "python",
   "name": "python3"
  },
  "language_info": {
   "codemirror_mode": {
    "name": "ipython",
    "version": 3
   },
   "file_extension": ".py",
   "mimetype": "text/x-python",
   "name": "python",
   "nbconvert_exporter": "python",
   "pygments_lexer": "ipython3",
   "version": "3.9.12"
  }
 },
 "nbformat": 4,
 "nbformat_minor": 5
}
